{
 "cells": [
  {
   "cell_type": "code",
   "execution_count": 1,
   "metadata": {},
   "outputs": [],
   "source": [
    "svgText='''\n",
    "<svg height=\"100\" width=\"100\">\n",
    "  <circle cx=\"50\" cy=\"50\" r=\"40\" stroke=\"black\" stroke-width=\"3\" fill=\"red\" />\n",
    "  Sorry, your browser does not support inline SVG.  \n",
    "</svg> \n",
    " '''\n",
    "\n",
    "\n",
    "from IPython.display import SVG\n",
    "\n",
    "def show_svg():\n",
    "    return SVG(url='http://upload.wikimedia.org/wikipedia/en/a/a4/Flag_of_the_United_States.svg')\n",
    "\n",
    "def show_svg2():\n",
    "    return SVG(data=svgText)\n",
    "\n",
    "\n"
   ]
  },
  {
   "cell_type": "code",
   "execution_count": 2,
   "metadata": {},
   "outputs": [
    {
     "data": {
      "image/svg+xml": [
       "<svg height=\"100\" width=\"100\">\n",
       "  <circle cx=\"50\" cy=\"50\" fill=\"red\" r=\"40\" stroke=\"black\" stroke-width=\"3\"/>\n",
       "  Sorry, your browser does not support inline SVG.  \n",
       "</svg>"
      ],
      "text/plain": [
       "<IPython.core.display.SVG object>"
      ]
     },
     "metadata": {},
     "output_type": "display_data"
    }
   ],
   "source": [
    "show_svg2()"
   ]
  },
  {
   "cell_type": "code",
   "execution_count": 3,
   "metadata": {},
   "outputs": [
    {
     "data": {
      "image/svg+xml": [
       "<svg style=\"background-color:green\" viewBox=\"0 0 128 128\" width=\"160\" xmlns=\"http://www.w3.org/2000/svg\">\n",
       "<defs>\n",
       "  <style>\n",
       "    :root{--mprimary-color:#ffaac8;}\n",
       "    .cls-1{fill:#003750;}\n",
       "    .cls-2{font-size:60.6px;fill:#fff;}\n",
       "    .cls-2,.cls-5{font-family:RobotoCondensed-Bold, Roboto Condensed;font-weight:700;}\n",
       "    .cls-3{font-size:40px;}\n",
       "    .cls-4,.cls-5{--primary-color:#41aac8;}\n",
       "    .cls-5{font-size:26.7px;}\n",
       "   </style>\n",
       "</defs>\n",
       "<g data-name=\"Layer 2\" id=\"Layer_2\">\n",
       "   <g data-name=\"Prime Color\" id=\"Prime_Color\">\n",
       "      <polygon class=\"cls-1\" points=\"79.8 0 0 0 0 128 114 128 114 34.29 79.8 34.29 79.8 0\"/>\n",
       "   </g>\n",
       "   <g data-name=\"Prod Name (Use Swatches)\" id=\"Prod_Name_Use_Swatches_\">\n",
       "      <text class=\"cls-2\" transform=\"translate(10.54 107)\">A<tspan class=\"cls-3\" x=\"36.19\" y=\"0\">ME</tspan></text>\n",
       "   </g>\n",
       "   <g data-name=\"Fam Names (Use Swatches)\" id=\"Fam_Names_Use_Swatches_\">\n",
       "      <polygon class=\"cls-4\" points=\"79.8 34.29 114 34.29 79.8 0 79.8 34.29\"/>\n",
       "      <text class=\"cls-5\" style=\"fill: var(--mprimary-color) \" transform=\"translate(13.72 56.01)\">SC</text>\n",
       "   </g>\n",
       "</g>\n",
       "\n",
       "</svg>"
      ],
      "text/plain": [
       "<IPython.core.display.SVG object>"
      ]
     },
     "metadata": {},
     "output_type": "display_data"
    }
   ],
   "source": [
    "svgText='''\n",
    "<svg xmlns=\"http://www.w3.org/2000/svg\" width=\"160\" viewBox=\"0 0 128 128\"   style=\"background-color:green\">\n",
    "<defs>\n",
    "  <style>\n",
    "    :root{--mprimary-color:#ffaac8;}\n",
    "    .cls-1{fill:#003750;}\n",
    "    .cls-2{font-size:60.6px;fill:#fff;}\n",
    "    .cls-2,.cls-5{font-family:RobotoCondensed-Bold, Roboto Condensed;font-weight:700;}\n",
    "    .cls-3{font-size:40px;}\n",
    "    .cls-4,.cls-5{--primary-color:#41aac8;}\n",
    "    .cls-5{font-size:26.7px;}\n",
    "   </style>\n",
    "</defs>\n",
    "<g id=\"Layer_2\" data-name=\"Layer 2\">\n",
    "   <g id=\"Prime_Color\" data-name=\"Prime Color\">\n",
    "      <polygon class=\"cls-1\" points=\"79.8 0 0 0 0 128 114 128 114 34.29 79.8 34.29 79.8 0\"/>\n",
    "   </g>\n",
    "   <g id=\"Prod_Name_Use_Swatches_\" data-name=\"Prod Name (Use Swatches)\">\n",
    "      <text class=\"cls-2\" transform=\"translate(10.54 107)\">A<tspan class=\"cls-3\" x=\"36.19\" y=\"0\">ME</tspan></text>\n",
    "   </g>\n",
    "   <g id=\"Fam_Names_Use_Swatches_\" data-name=\"Fam Names (Use Swatches)\">\n",
    "      <polygon class=\"cls-4\" points=\"79.8 34.29 114 34.29 79.8 0 79.8 34.29\"/>\n",
    "      <text class=\"cls-5\"  style=\"fill: var(--mprimary-color) \"  transform=\"translate(13.72 56.01)\">SC</text>\n",
    "   </g>\n",
    "</g>\n",
    "\n",
    "</svg>\n",
    " '''\n",
    "\n",
    "SVG(data=svgText)\n"
   ]
  },
  {
   "cell_type": "code",
   "execution_count": null,
   "metadata": {},
   "outputs": [],
   "source": []
  },
  {
   "cell_type": "code",
   "execution_count": null,
   "metadata": {},
   "outputs": [],
   "source": []
  }
 ],
 "metadata": {
  "kernelspec": {
   "display_name": "Studio (py)",
   "language": "py",
   "name": "studio-py-2021.2"
  },
  "language_info": {
   "codemirror_mode": "py",
   "mimetype": "text/x-studio-py",
   "name": "py",
   "pygments_lexer": "studio-py"
  }
 },
 "nbformat": 4,
 "nbformat_minor": 4
}
